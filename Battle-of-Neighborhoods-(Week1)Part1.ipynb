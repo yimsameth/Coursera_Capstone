{
    "nbformat_minor": 1, 
    "cells": [
        {
            "source": "# Capstone Project - The Battle of Neighborhoods (Week 1)", 
            "cell_type": "markdown", 
            "metadata": {
                "collapsed": true
            }
        }, 
        {
            "source": "## Introduction / Business Problem", 
            "cell_type": "markdown", 
            "metadata": {}
        }, 
        {
            "source": "Phnom Penh, the biggest city in Cambodia and also its wealthiest, is the cultural, commercial and political centre of the country. \nIt is also home to more than a million of Cambodia's population of over 16 million. \nCovering an area of 345 sq km, Phnom Penh is located in the south-central region of Cambodia, at the confluence of the Tonle Sap, Mekong and Bassac rivers. \nThe city offers extensive cultural and historical attractions, including temples, museums, the Royal Palace and also has accommodation from simple guesthouses to 5-star hotels. \nPhnom Penh also features good dining facilities as well as a vibrant and varied nightlife.", 
            "cell_type": "markdown", 
            "metadata": {}
        }, 
        {
            "source": "My boss is Finnish, interesting to invest by opening restaurant that locate in Phnom Penh city of Cambodia.", 
            "cell_type": "markdown", 
            "metadata": {}
        }, 
        {
            "source": "He recommend me to define a best locatlity based on the following constraints:", 
            "cell_type": "markdown", 
            "metadata": {}
        }, 
        {
            "source": "    - Population density of a locality\n    - Per Capital income\n    - Population of each location\n    - Venues in each locality\n    \n    The category of the venues that he's interested in are,\n\n    - Arts and Entertainment\n    - Shops & Service\n    - College and University\n    - Event\n    - Food\n    - Nightife Spot\n    - Outdoors & Recreation\n    - Professional & Other places\n    - Residence\n    - Travel & Transport", 
            "cell_type": "markdown", 
            "metadata": {}
        }
    ], 
    "metadata": {
        "kernelspec": {
            "display_name": "Python 3.5", 
            "name": "python3", 
            "language": "python"
        }, 
        "language_info": {
            "mimetype": "text/x-python", 
            "nbconvert_exporter": "python", 
            "version": "3.5.5", 
            "name": "python", 
            "file_extension": ".py", 
            "pygments_lexer": "ipython3", 
            "codemirror_mode": {
                "version": 3, 
                "name": "ipython"
            }
        }
    }, 
    "nbformat": 4
}