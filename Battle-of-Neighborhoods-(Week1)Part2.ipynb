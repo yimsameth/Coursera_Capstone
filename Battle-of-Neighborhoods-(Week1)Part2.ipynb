{
    "nbformat_minor": 1, 
    "cells": [
        {
            "source": "## Data", 
            "cell_type": "markdown", 
            "metadata": {
                "collapsed": true
            }
        }, 
        {
            "source": "\n#### To help my boss to set up a restaurant, i will show dataset as follow:\n", 
            "cell_type": "markdown", 
            "metadata": {}
        }, 
        {
            "source": "- View Cambodia Map: https://tools.wmflabs.org/geohack/geohack.php?pagename=Geography_of_Cambodia&params=13_00_N_105_00_E_\n- View Phnom Penh City: https://en.wikipedia.org/wiki/Phnom_Penh#/map/0\n\nUsing Four Square API to get the following\n\n- List of all the restaurants and Hotels in Phnom Penh city \n- List of all venues in each locality in Phnom Penh city\n- Phnom Penh city geographical coordinates data will be utilized as input for the Foursquare API, that will be leveraged to provision venues information for each restaurant. I will use the   \n  Foursquare API to explore restaurant in Phnom Penh city.\n- List the closest venues to the Hotels.\n", 
            "cell_type": "markdown", 
            "metadata": {}
        }
    ], 
    "metadata": {
        "kernelspec": {
            "display_name": "Python 3.5", 
            "name": "python3", 
            "language": "python"
        }, 
        "language_info": {
            "mimetype": "text/x-python", 
            "nbconvert_exporter": "python", 
            "version": "3.5.5", 
            "name": "python", 
            "file_extension": ".py", 
            "pygments_lexer": "ipython3", 
            "codemirror_mode": {
                "version": 3, 
                "name": "ipython"
            }
        }
    }, 
    "nbformat": 4
}